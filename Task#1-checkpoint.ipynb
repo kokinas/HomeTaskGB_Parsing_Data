{
 "cells": [
  {
   "cell_type": "markdown",
   "id": "1ba99f85",
   "metadata": {},
   "source": [
    "# 1. Посмотреть документацию к API GitHub, разобраться как вывести список репозиториев для конкретного пользователя, сохранить JSON-вывод в файле *.json."
   ]
  },
  {
   "cell_type": "code",
   "execution_count": 1,
   "id": "81930315",
   "metadata": {
    "scrolled": false
   },
   "outputs": [],
   "source": [
    "import requests\n",
    "import json\n",
    "user = 'kokinas'\n",
    "url = f'https://api.github.com/users/{user}/repos'\n",
    "req = requests.get(url)\n",
    "url_data = req.json()\n",
    "rep_list = []\n",
    "for repos in url_data:\n",
    "    rep_list.append(repos['name'])\n",
    "rep_list_json = json.dumps(rep_list)\n",
    "with open (f\"{user}'s repositories\", 'w') as f:\n",
    "    f.write(rep_list_json)"
   ]
  },
  {
   "cell_type": "markdown",
   "id": "3dc86778",
   "metadata": {},
   "source": [
    "# 2. Изучить список открытых API (https://www.programmableweb.com/category/all/apis). Найти среди них любое, требующее авторизацию (любого типа). Выполнить запросы к нему, пройдя авторизацию. Ответ сервера записать в файл.\n",
    "Если нет желания заморачиваться с поиском, возьмите API вконтакте (https://vk.com/dev/first_guide). Сделайте запрос, чтобы получить список всех сообществ на которые вы подписаны."
   ]
  },
  {
   "cell_type": "markdown",
   "id": "6c40fd5f",
   "metadata": {},
   "source": [
    "Создаем Standalone-приложение https://dev.vk.com/\n",
    "Адрес сайта: http://localhost\n",
    "Базовый домен: localhost\n",
    "Получаем ID приложения (client_id)"
   ]
  },
  {
   "cell_type": "markdown",
   "id": "87206ad5",
   "metadata": {},
   "source": [
    "Формируем запрос в браузерерной строке:\n",
    "https://oauth.vk.com/authorize?\n",
    "client_id=51554137\n",
    "&display=page\n",
    "&redirect_uri=http://oauth.vk.com/blank.html\n",
    "&scope=friends&groups\n",
    "&response_type=token\n",
    "&v=5.131\n",
    "получаем токен для пользователя:\n",
    "'access_token=vk1.a._bwxgZAT3PNQv_DwRQCSlZNDtRpNiQ4GK4OLMmZSVM4yOvnGYwYA48GajFMX0s-NV7auSYhKG3o-I05T8XtHpgHjDCOsau5OmFk73d7h8cMAPd7H41CoRR5FJt3KVLtIiQRs8wc5x56HY0i1COwgbtf3iCfMfESd2MoRc3wdU9hmO9CMGSdaRlLL_1OXf9vK&expires_in=86400'\n",
    "user_id=449325317"
   ]
  },
  {
   "cell_type": "code",
   "execution_count": 2,
   "id": "ef8ed95d",
   "metadata": {
    "scrolled": false
   },
   "outputs": [
    {
     "data": {
      "text/plain": [
       "(['Криптофер | Инвестиции & Криптовалюта',\n",
       "  'Фильмы HD',\n",
       "  'Павел Ширяев',\n",
       "  'Улетный Юмор',\n",
       "  'Криптовалюты',\n",
       "  'Электро-монтажные работы | Красногорскиий район',\n",
       "  'SMM секреты с Анастасией Юговой',\n",
       "  'Сериалчик HD',\n",
       "  'НОВОГОДНИЕ ЕЛКИ ОПТОМ ПО РФ',\n",
       "  'MFORCE - Ремонт АВД',\n",
       "  'Барахолка | Москва и МО',\n",
       "  'Горячие путевки по миру',\n",
       "  'MDK',\n",
       "  'Rich-Birds.com - заработай на своих яйцах!',\n",
       "  'Оформление и дизайн групп | Живые Видео обложки',\n",
       "  'Обучение Веб-дизайну | Блог Игоря Кривицкого',\n",
       "  'Блог Василия Рубцова',\n",
       "  'Тестовая группа',\n",
       "  'Игры',\n",
       "  'Девушки и техника',\n",
       "  'ПИГАРТ- автошампуни и автокосметика',\n",
       "  'Мужские рецепты',\n",
       "  'Интересные авто',\n",
       "  'Мужской паблик',\n",
       "  '6 Интересных фактов',\n",
       "  'Комиксы',\n",
       "  'Интересное',\n",
       "  'Бизнес проекты',\n",
       "  'Арт искусство',\n",
       "  '6 научных фактов',\n",
       "  'Приколы из жизни!',\n",
       "  'Анекдоты',\n",
       "  'Интересное о странах мира',\n",
       "  'Наука и Техника',\n",
       "  'Природа мира',\n",
       "  'Факты истории',\n",
       "  'Фитнес',\n",
       "  'Вкус жизни',\n",
       "  'Искусство экономить',\n",
       "  'Психология | Саморазвитие',\n",
       "  'Философия бизнеса',\n",
       "  'Великие Философы',\n",
       "  'Лайфхакер бизнеса',\n",
       "  'Коктейли мира',\n",
       "  'Кухни мировых шеф-поваров',\n",
       "  'Боевые искусства',\n",
       "  'Здоровый образ жизни'],\n",
       " <Response [200]>)"
      ]
     },
     "execution_count": 2,
     "metadata": {},
     "output_type": "execute_result"
    }
   ],
   "source": [
    "import requests\n",
    "key = 'access_token=vk1.a._bwxgZAT3PNQv_DwRQCSlZNDtRpNiQ4GK4OLMmZSVM4yOvnGYwYA48GajFMX0s-NV7auSYhKG3o-I05T8XtHpgHjDCOsau5OmFk73d7h8cMAPd7H41CoRR5FJt3KVLtIiQRs8wc5x56HY0i1COwgbtf3iCfMfESd2MoRc3wdU9hmO9CMGSdaRlLL_1OXf9vK&expires_in=86400'\n",
    "user_id = 10598045\n",
    "#user_id=449325317\n",
    "def get_groups (key, user_id):\n",
    "    req = requests.get(f'https://api.vk.com/method/groups.get?{key}&user_id={user_id}&v=5.124&extended=1')\n",
    "    req_json = req .json()\n",
    "    name_groups = []\n",
    "    for group in req_json['response']['items']:\n",
    "        name_groups.append(group['name'])\n",
    "    return name_groups,req\n",
    "x = get_groups(key, user_id)\n",
    "x"
   ]
  }
 ],
 "metadata": {
  "kernelspec": {
   "display_name": "Python 3 (ipykernel)",
   "language": "python",
   "name": "python3"
  },
  "language_info": {
   "codemirror_mode": {
    "name": "ipython",
    "version": 3
   },
   "file_extension": ".py",
   "mimetype": "text/x-python",
   "name": "python",
   "nbconvert_exporter": "python",
   "pygments_lexer": "ipython3",
   "version": "3.9.12"
  }
 },
 "nbformat": 4,
 "nbformat_minor": 5
}
